{
 "cells": [
  {
   "cell_type": "markdown",
   "metadata": {},
   "source": [
    "# Linear Regression "
   ]
  },
  {
   "cell_type": "code",
   "execution_count": 1,
   "metadata": {},
   "outputs": [],
   "source": [
    "import warnings\n",
    "import pandas as pd\n",
    "import numpy as np\n",
    "import statsmodels.api as sm\n",
    "from scipy import stats\n",
    "from sklearn.model_selection import train_test_split\n",
    "from sklearn.metrics import mean_squared_error, mean_absolute_error, r2_score\n",
    "import pylab\n",
    "\n",
    "import matplotlib.pyplot as plt\n",
    "%matplotlib inline\n",
    "warnings.filterwarnings('ignore')\n",
    "df = pd.read_csv(\"Financial_Mexican_Firms.csv\")"
   ]
  },
  {
   "cell_type": "markdown",
   "metadata": {},
   "source": [
    "- Train & Test Split"
   ]
  },
  {
   "cell_type": "code",
   "execution_count": 2,
   "metadata": {},
   "outputs": [],
   "source": [
    "X  = df.iloc[:, 0:10]\n",
    "y  = df.iloc[:, 10]\n",
    "X_train, X_test, y_train, y_test = train_test_split(X, y, test_size=0.25, random_state = 0) \n",
    "df_train = pd.concat([X_train, y_train], axis = 1)"
   ]
  },
  {
   "cell_type": "markdown",
   "metadata": {},
   "source": [
    "- Handling missing values"
   ]
  },
  {
   "cell_type": "code",
   "execution_count": 3,
   "metadata": {},
   "outputs": [],
   "source": [
    "import miceforest as mf\n",
    "\n",
    "kds = mf.ImputationKernel(df_train, \n",
    "                           datasets = 5, \n",
    "                           save_all_iterations = True, \n",
    "                           random_state = 0)\n",
    "# Run MICE for 6 iterations\n",
    "kds.mice(6)\n",
    "kds.complete_data(4)\n",
    "\n",
    "# Update values\n",
    "df_train = pd.concat([kds.complete_data(i) for i in range(5)]).groupby(level = 0).mean()\n",
    "X_train  = df_train.iloc[:, 0:10]\n",
    "y_train  = df_train.iloc[:, 10]"
   ]
  },
  {
   "cell_type": "markdown",
   "metadata": {},
   "source": [
    "- Handling outliers (Z-score)"
   ]
  },
  {
   "cell_type": "code",
   "execution_count": 12,
   "metadata": {},
   "outputs": [],
   "source": [
    "# This function returns a list of outliers assuming normality with a threshold of 2.5 standard deviations\n",
    "def outlier_detector(df):\n",
    "    copy_df  = df.copy()\n",
    "    copy_np  = copy_df.to_numpy()\n",
    "    cutoff   = 2.5\n",
    "    \n",
    "    outliers = []\n",
    "    \n",
    "    mean = np.mean(copy_np)\n",
    "    std  = np.std(copy_np)\n",
    "    \n",
    "    for i in copy_df:\n",
    "        z_score = (i - mean)/std\n",
    "        if np.abs(z_score) > cutoff:\n",
    "            outliers.append(i)\n",
    "            \n",
    "    return pd.DataFrame(outliers) "
   ]
  },
  {
   "cell_type": "code",
   "execution_count": 13,
   "metadata": {},
   "outputs": [
    {
     "name": "stdout",
     "output_type": "stream",
     "text": [
      "Outliers: 1  ProposedIndex\n",
      "Outliers: 2  IIHH\n",
      "Outliers: 1  Shannon\n",
      "Outliers: 1  Size\n",
      "Outliers: 5  AssetTurnover\n",
      "Outliers: 4  Debt\n",
      "Outliers: 5  QuickRatio\n",
      "Outliers: 5  CashHoldings\n",
      "Outliers: 6  ROE\n",
      "Outliers: 5  ROI\n",
      "Outliers: 5  ROA\n"
     ]
    }
   ],
   "source": [
    "for feature in df_train:\n",
    "    print('Outliers: {} '.format(len(outlier_detector(df_train[feature]))), feature)"
   ]
  },
  {
   "cell_type": "markdown",
   "metadata": {},
   "source": [
    "- Feature Engineering\n",
    "    - Feature Scaling "
   ]
  },
  {
   "cell_type": "markdown",
   "metadata": {},
   "source": [
    "In this particular case, all scaling methods affect performance (R-Square), thus, features aren´t scaled"
   ]
  },
  {
   "cell_type": "markdown",
   "metadata": {},
   "source": [
    "- Specify the model"
   ]
  },
  {
   "cell_type": "code",
   "execution_count": 6,
   "metadata": {},
   "outputs": [
    {
     "name": "stdout",
     "output_type": "stream",
     "text": [
      "                                 OLS Regression Results                                \n",
      "=======================================================================================\n",
      "Dep. Variable:                      y   R-squared (uncentered):                   0.838\n",
      "Model:                            OLS   Adj. R-squared (uncentered):              0.827\n",
      "Method:                 Least Squares   F-statistic:                              77.17\n",
      "Date:                Thu, 29 Sep 2022   Prob (F-statistic):                    8.68e-54\n",
      "Time:                        11:47:39   Log-Likelihood:                          322.80\n",
      "No. Observations:                 159   AIC:                                     -625.6\n",
      "Df Residuals:                     149   BIC:                                     -594.9\n",
      "Df Model:                          10                                                  \n",
      "Covariance Type:            nonrobust                                                  \n",
      "==============================================================================\n",
      "                 coef    std err          t      P>|t|      [0.025      0.975]\n",
      "------------------------------------------------------------------------------\n",
      "x1             0.0188      0.016      1.186      0.238      -0.013       0.050\n",
      "x2             0.0041      0.006      0.637      0.525      -0.009       0.017\n",
      "x3            -0.0425      0.019     -2.241      0.026      -0.080      -0.005\n",
      "x4         -2.668e-05      0.001     -0.044      0.965      -0.001       0.001\n",
      "x5             0.0011      0.006      0.185      0.854      -0.011       0.013\n",
      "x6             0.0065      0.002      3.619      0.000       0.003       0.010\n",
      "x7             0.0047      0.003      1.440      0.152      -0.002       0.011\n",
      "x8             0.0332      0.042      0.796      0.427      -0.049       0.115\n",
      "x9             0.2171      0.017     12.566      0.000       0.183       0.251\n",
      "x10            0.2497      0.027      9.122      0.000       0.196       0.304\n",
      "==============================================================================\n",
      "Omnibus:                       17.872   Durbin-Watson:                   1.548\n",
      "Prob(Omnibus):                  0.000   Jarque-Bera (JB):               47.508\n",
      "Skew:                           0.376   Prob(JB):                     4.83e-11\n",
      "Kurtosis:                       5.570   Cond. No.                         284.\n",
      "==============================================================================\n",
      "\n",
      "Notes:\n",
      "[1] R² is computed without centering (uncentered) since the model does not contain a constant.\n",
      "[2] Standard Errors assume that the covariance matrix of the errors is correctly specified.\n"
     ]
    }
   ],
   "source": [
    "# X_train_constant = sm.add_constant(X_train)\n",
    "optimal_model    = sm.OLS(y_train.to_numpy(), X_train.to_numpy()).fit()\n",
    "print(optimal_model.summary())"
   ]
  },
  {
   "cell_type": "markdown",
   "metadata": {},
   "source": [
    "- Evaluate performance"
   ]
  },
  {
   "cell_type": "code",
   "execution_count": 7,
   "metadata": {},
   "outputs": [
    {
     "name": "stdout",
     "output_type": "stream",
     "text": [
      "R2  : 0.5903052448446527\n",
      "MAE : 0.02543887452824191\n",
      "MSE : 0.0017683785324535814\n",
      "RMSE: 0.04205209308053026\n",
      "Processing time: 0.003 seconds\n"
     ]
    }
   ],
   "source": [
    "import time\n",
    "start_time = time.time()\n",
    "\n",
    "y_pred     = optimal_model.predict(X_test)\n",
    "    \n",
    "print('R2  :', r2_score(y_test, y_pred))\n",
    "print('MAE :', mean_absolute_error(y_test, y_pred))\n",
    "print('MSE :', mean_squared_error(y_test, y_pred))\n",
    "print('RMSE:', np.sqrt(mean_squared_error(y_test, y_pred)))\n",
    "print('Processing time: %s seconds' % round((time.time() - start_time), 4))"
   ]
  },
  {
   "cell_type": "markdown",
   "metadata": {},
   "source": [
    "- Deployment"
   ]
  },
  {
   "cell_type": "code",
   "execution_count": 9,
   "metadata": {},
   "outputs": [],
   "source": [
    "import pickle\n",
    "file = open(\"linear_regression.pkl\", 'wb')\n",
    "pickle.dump(optimal_model, file)"
   ]
  },
  {
   "cell_type": "code",
   "execution_count": null,
   "metadata": {},
   "outputs": [],
   "source": []
  }
 ],
 "metadata": {
  "kernelspec": {
   "display_name": "Python 3 (ipykernel)",
   "language": "python",
   "name": "python3"
  },
  "language_info": {
   "codemirror_mode": {
    "name": "ipython",
    "version": 3
   },
   "file_extension": ".py",
   "mimetype": "text/x-python",
   "name": "python",
   "nbconvert_exporter": "python",
   "pygments_lexer": "ipython3",
   "version": "3.10.4"
  }
 },
 "nbformat": 4,
 "nbformat_minor": 4
}
