{
 "cells": [
  {
   "cell_type": "code",
   "execution_count": 1,
   "id": "5b4016bb",
   "metadata": {},
   "outputs": [],
   "source": [
    "import warnings\n",
    "from sklearn.model_selection import train_test_split\n",
    "from sklearn.metrics import mean_squared_error, r2_score\n",
    "import pandas as pd\n",
    "#Models to compare\n",
    "from sklearn.linear_model import LinearRegression\n",
    "from sklearn.neighbors import KNeighborsRegressor\n",
    "from sklearn.svm import SVR\n",
    "from sklearn.ensemble import RandomForestRegressor\n",
    "from xgboost import XGBRegressor\n",
    "warnings.filterwarnings('ignore')\n",
    "\n",
    "df = pd.read_csv(\"Financial_Mexican_Firms.csv\")"
   ]
  },
  {
   "cell_type": "markdown",
   "id": "e0c2eb25",
   "metadata": {},
   "source": [
    "Train & Test Split"
   ]
  },
  {
   "cell_type": "code",
   "execution_count": 2,
   "id": "4a744acd",
   "metadata": {},
   "outputs": [],
   "source": [
    "X  = df.iloc[:, 0:10]\n",
    "y  = df.iloc[:, 10]\n",
    "X_train, X_test, y_train, y_test = train_test_split(X, y, test_size=0.25, random_state = 0) \n",
    "df_train = pd.concat([X_train, y_train], axis = 1)\n",
    "df_test  = pd.concat([X_test, y_test], axis = 1)"
   ]
  },
  {
   "cell_type": "markdown",
   "id": "fb26e118",
   "metadata": {},
   "source": [
    "Handling missing values"
   ]
  },
  {
   "cell_type": "code",
   "execution_count": 3,
   "id": "c9738b43",
   "metadata": {},
   "outputs": [],
   "source": [
    "import miceforest as mf\n",
    "\n",
    "df_train_mice = mf.ImputationKernel(df_train, \n",
    "                           datasets = 5, \n",
    "                           save_all_iterations = True, \n",
    "                           random_state = 0)\n",
    "df_train_mice.mice(6)\n",
    "df_train_mice.complete_data(4)\n",
    "\n",
    "df_train = pd.concat([df_train_mice.complete_data(i) for i in range(5)]).groupby(level = 0).mean()\n",
    "X_train  = df_train.iloc[:, 0:10]\n",
    "y_train  = df_train.iloc[:, 10]"
   ]
  },
  {
   "cell_type": "markdown",
   "id": "7e47b255",
   "metadata": {},
   "source": [
    "Feature Scaling"
   ]
  },
  {
   "cell_type": "code",
   "execution_count": 4,
   "id": "cc92bc52",
   "metadata": {},
   "outputs": [],
   "source": [
    "from sklearn.preprocessing import StandardScaler, MinMaxScaler, RobustScaler\n",
    "\n",
    "std_scaler = StandardScaler()\n",
    "mmx_scaler = MinMaxScaler()\n",
    "rob_scaler = RobustScaler()\n",
    "\n",
    "X_train_scaled = pd.DataFrame(rob_scaler.fit_transform(X_train), columns = ['ProposedIndex', \n",
    "                                                                 'IIHH',  \n",
    "                                                                 'Shannon',\n",
    "                                                                 'Size',\n",
    "                                                                 'AssetTurnover',\n",
    "                                                                 'Debt',\n",
    "                                                                 'QuickRatio',\n",
    "                                                                 'CashHoldings',\n",
    "                                                                 'ROE',\n",
    "                                                                 'ROI'])\n",
    "\n",
    "X_test_scaled = pd.DataFrame(rob_scaler.transform(X_test), columns = ['ProposedIndex', \n",
    "                                                                 'IIHH',  \n",
    "                                                                 'Shannon',\n",
    "                                                                 'Size',\n",
    "                                                                 'AssetTurnover',\n",
    "                                                                 'Debt',\n",
    "                                                                 'QuickRatio',\n",
    "                                                                 'CashHoldings',\n",
    "                                                                 'ROE',\n",
    "                                                                 'ROI'])\n",
    "# Update scaled datasets\n",
    "df_train_scaled = pd.concat([X_train_scaled, y_train], axis = 1)     \n",
    "df_test_scaled  = pd.concat([X_test_scaled, y_test], axis = 1) "
   ]
  },
  {
   "cell_type": "markdown",
   "id": "552019e3",
   "metadata": {},
   "source": [
    "Robust Scaling is applied "
   ]
  },
  {
   "cell_type": "markdown",
   "id": "3e372210",
   "metadata": {},
   "source": [
    "Model Comparison\n",
    "- No Feature Scaling\n",
    "- Feature Scaling"
   ]
  },
  {
   "cell_type": "code",
   "execution_count": 5,
   "id": "be90ff90",
   "metadata": {},
   "outputs": [
    {
     "name": "stdout",
     "output_type": "stream",
     "text": [
      "Values without Scaled Features \n",
      "R2:  0.58969 LinearRegression --- 0.004999637603759766 seconds ---\n",
      "R2:  -0.13649 KNN --- 0.0859987735748291 seconds ---\n",
      "R2:  0.33099 SVM --- 0.08999991416931152 seconds ---\n",
      "R2:  0.77304 Random Forest --- 0.182999849319458 seconds ---\n",
      "R2:  0.8439 XGBoost --- 0.24100017547607422 seconds ---\n"
     ]
    }
   ],
   "source": [
    "models = []\n",
    "models.append(('LinearRegression', LinearRegression()))\n",
    "models.append(('KNN', KNeighborsRegressor(n_neighbors = 4,\n",
    "                                         algorithm    = 'brute',\n",
    "                                         leaf_size    = 1,\n",
    "                                         metric       = 'minkowski',\n",
    "                                         p            = 2,\n",
    "                                         weights      = 'distance')))\n",
    "models.append(('SVM', SVR(kernel     = 'poly', \n",
    "                          degree     = 4, \n",
    "                          C          = 5, \n",
    "                          epsilon    = 0.1)))\n",
    "models.append(('Random Forest', RandomForestRegressor(n_estimators      = 63,\n",
    "                                                      min_samples_split = 16,\n",
    "                                                      min_samples_leaf  = 1,\n",
    "                                                      max_features      = 'auto',\n",
    "                                                      max_depth         = 30)))\n",
    "models.append(('XGBoost',XGBRegressor(colsample_bytree  = 0.7,\n",
    "                                      learning_rate     = 0.2,\n",
    "                                      max_depth         = 7, \n",
    "                                      min_child_weight  = 1,\n",
    "                                      reg_lambda        = 1)))\n",
    "print('Values without Scaled Features ')\n",
    "import time\n",
    "start_time = time.time()\n",
    "\n",
    "for name, model in models:\n",
    "    fitting = model.fit(X_train, y_train)\n",
    "    y_pred  = fitting.predict(X_test)\n",
    "    rsquare = r2_score(y_test, y_pred)\n",
    "    mse     = mean_squared_error(y_test, y_pred)\n",
    "    \n",
    "    print('R2: ',round(rsquare, 5), name,\"--- %s seconds ---\" % (time.time() - start_time) )"
   ]
  },
  {
   "cell_type": "code",
   "execution_count": 6,
   "id": "bb0f9349",
   "metadata": {},
   "outputs": [
    {
     "name": "stdout",
     "output_type": "stream",
     "text": [
      "Values with Scaled Features \n",
      "R2:  0.58969 LinearRegression --- 0.004236698150634766 seconds ---\n",
      "R2:  0.68214 KNN --- 0.010002613067626953 seconds ---\n",
      "R2:  -0.19865 SVM --- 0.0149993896484375 seconds ---\n",
      "R2:  0.77154 Random Forest --- 0.10699892044067383 seconds ---\n",
      "R2:  0.84388 XGBoost --- 0.15799927711486816 seconds ---\n"
     ]
    }
   ],
   "source": [
    "print('Values with Scaled Features ')\n",
    "import time\n",
    "start_time = time.time()\n",
    "\n",
    "for name, model in models:\n",
    "    fitting = model.fit(X_train_scaled, y_train)\n",
    "    y_pred  = fitting.predict(X_test_scaled)\n",
    "    rsquare = r2_score(y_test, y_pred)\n",
    "    mse     = mean_squared_error(y_test, y_pred)\n",
    "    \n",
    "    print('R2: ',round(rsquare, 5), name,\"--- %s seconds ---\" % (time.time() - start_time) )"
   ]
  },
  {
   "cell_type": "code",
   "execution_count": null,
   "id": "2705e46a",
   "metadata": {},
   "outputs": [],
   "source": []
  }
 ],
 "metadata": {
  "kernelspec": {
   "display_name": "Python 3 (ipykernel)",
   "language": "python",
   "name": "python3"
  },
  "language_info": {
   "codemirror_mode": {
    "name": "ipython",
    "version": 3
   },
   "file_extension": ".py",
   "mimetype": "text/x-python",
   "name": "python",
   "nbconvert_exporter": "python",
   "pygments_lexer": "ipython3",
   "version": "3.10.4"
  }
 },
 "nbformat": 4,
 "nbformat_minor": 5
}
