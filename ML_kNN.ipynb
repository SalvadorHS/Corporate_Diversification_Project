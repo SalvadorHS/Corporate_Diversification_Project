{
 "cells": [
  {
   "cell_type": "markdown",
   "id": "24499cc8",
   "metadata": {},
   "source": [
    "# kNN Clustering "
   ]
  },
  {
   "cell_type": "code",
   "execution_count": 1,
   "id": "ece65099",
   "metadata": {},
   "outputs": [],
   "source": [
    "import warnings\n",
    "import pandas as pd\n",
    "import numpy as np\n",
    "from sklearn.neighbors import KNeighborsRegressor\n",
    "from sklearn.metrics import mean_squared_error, mean_absolute_error, r2_score\n",
    "from sklearn.model_selection import  KFold, train_test_split, cross_val_predict\n",
    "\n",
    "import matplotlib.pyplot as plt\n",
    "%matplotlib inline\n",
    "warnings.filterwarnings('ignore')\n",
    "\n",
    "df       = pd.read_csv(\"Financial_Mexican_Firms.csv\")"
   ]
  },
  {
   "cell_type": "markdown",
   "id": "5d2edba7",
   "metadata": {},
   "source": [
    "1. Train & Test Split"
   ]
  },
  {
   "cell_type": "code",
   "execution_count": 2,
   "id": "f08f1d12",
   "metadata": {},
   "outputs": [],
   "source": [
    "X  = df.iloc[:, 0:10]\n",
    "y  = df.iloc[:, 10]\n",
    "X_train, X_test, y_train, y_test = train_test_split(X, y, test_size=0.25, random_state = 0) \n",
    "df_train = pd.concat([X_train, y_train], axis = 1)\n",
    "df_test  = pd.concat([X_test, y_test], axis = 1)"
   ]
  },
  {
   "cell_type": "markdown",
   "id": "280f25b7",
   "metadata": {},
   "source": [
    "2. Handling missing values "
   ]
  },
  {
   "cell_type": "code",
   "execution_count": 3,
   "id": "40d2484c",
   "metadata": {},
   "outputs": [],
   "source": [
    "from sklearn.experimental import enable_iterative_imputer\n",
    "from sklearn.impute import IterativeImputer\n",
    "from sklearn.linear_model import LinearRegression\n",
    "\n",
    "# Imputation techniques\n",
    "iregression_imputer = IterativeImputer(estimator = LinearRegression(), \n",
    "                                   missing_values = np.nan, \n",
    "                                   max_iter = 5, \n",
    "                                   imputation_order = 'roman', \n",
    "                                   random_state = 0)\n",
    "\n",
    "# Apply an Imputation technique for training & testing datasets and rename columns\n",
    "df_train  = pd.DataFrame(iregression_imputer.fit_transform(df_train), columns = ['ProposedIndex', \n",
    "                                                                 'IIHH',  \n",
    "                                                                 'Shannon',\n",
    "                                                                 'Size',\n",
    "                                                                 'AssetTurnover',\n",
    "                                                                 'Debt',\n",
    "                                                                 'QuickRatio',\n",
    "                                                                 'CashHoldings',\n",
    "                                                                 'ROE',\n",
    "                                                                 'ROI',\n",
    "                                                                 'ROA'])\n",
    "\n",
    "df_test  = pd.DataFrame(iregression_imputer.fit_transform(df_test), columns = ['ProposedIndex', \n",
    "                                                                 'IIHH',  \n",
    "                                                                 'Shannon',\n",
    "                                                                 'Size',\n",
    "                                                                 'AssetTurnover',\n",
    "                                                                 'Debt',\n",
    "                                                                 'QuickRatio',\n",
    "                                                                 'CashHoldings',\n",
    "                                                                 'ROE',\n",
    "                                                                 'ROI', \n",
    "                                                                 'ROA'])\n",
    "\n",
    "# Update the training set\n",
    "X_train  = df_train.iloc[:,:-1]\n",
    "y_train  = df_train.ROA\n",
    "\n",
    "X_test  = df_test.iloc[:,:-1]\n",
    "y_test  = df_test.ROA"
   ]
  },
  {
   "cell_type": "markdown",
   "id": "f15ce013",
   "metadata": {},
   "source": [
    "3. Feature Scaling "
   ]
  },
  {
   "cell_type": "code",
   "execution_count": 4,
   "id": "a2e70037",
   "metadata": {},
   "outputs": [],
   "source": [
    "from sklearn.preprocessing import StandardScaler, MinMaxScaler, RobustScaler\n",
    "\n",
    "std_scaler = StandardScaler()\n",
    "mmx_scaler = MinMaxScaler()\n",
    "rob_scaler = RobustScaler()\n",
    "\n",
    "X_train = pd.DataFrame(rob_scaler.fit_transform(X_train), columns = ['ProposedIndex', \n",
    "                                                                 'IIHH',  \n",
    "                                                                 'Shannon',\n",
    "                                                                 'Size',\n",
    "                                                                 'AssetTurnover',\n",
    "                                                                 'Debt',\n",
    "                                                                 'QuickRatio',\n",
    "                                                                 'CashHoldings',\n",
    "                                                                 'ROE',\n",
    "                                                                 'ROI'])\n",
    "\n",
    "X_test = pd.DataFrame(rob_scaler.transform(X_test), columns = ['ProposedIndex', \n",
    "                                                                 'IIHH',  \n",
    "                                                                 'Shannon',\n",
    "                                                                 'Size',\n",
    "                                                                 'AssetTurnover',\n",
    "                                                                 'Debt',\n",
    "                                                                 'QuickRatio',\n",
    "                                                                 'CashHoldings',\n",
    "                                                                 'ROE',\n",
    "                                                                 'ROI'])\n",
    "# Update scaled datasets\n",
    "df_train = pd.concat([X_train, y_train], axis = 1)     \n",
    "df_test  = pd.concat([X_test, y_test], axis = 1)  "
   ]
  },
  {
   "cell_type": "markdown",
   "id": "6fbd9ea0",
   "metadata": {},
   "source": [
    "4. Hyperparameter Tunning (Choose K)"
   ]
  },
  {
   "cell_type": "code",
   "execution_count": 5,
   "id": "d7e7ccfc",
   "metadata": {},
   "outputs": [],
   "source": [
    "error_rate = []\n",
    "for i in range (1, 50):\n",
    "    knn      = KNeighborsRegressor(n_neighbors = i).fit(X_train, y_train)\n",
    "    y_pred_k = cross_val_predict(knn, X_train, y_train, cv = 10, n_jobs = -1)\n",
    "    error_rate.append(1 - y_pred_k.mean())   "
   ]
  },
  {
   "cell_type": "code",
   "execution_count": 6,
   "id": "f8e000b1",
   "metadata": {},
   "outputs": [
    {
     "data": {
      "image/png": "[encoded data removed]",
      "text/plain": [
       "<Figure size 640x480 with 1 Axes>"
      ]
     },
     "metadata": {},
     "output_type": "display_data"
    }
   ],
   "source": [
    "plt.plot(range(1,50), \n",
    "            error_rate, \n",
    "            color='blue', \n",
    "            linestyle='dashed', \n",
    "            marker='o',\n",
    "            markerfacecolor='red', \n",
    "            markersize=10)\n",
    "plt.title('Error Rate vs. K Value')\n",
    "plt.xlabel('K')\n",
    "plt.ylabel('Error Rate')\n",
    "plt.show()"
   ]
  },
  {
   "cell_type": "markdown",
   "id": "f4b458b8",
   "metadata": {},
   "source": [
    "5. Specify the model"
   ]
  },
  {
   "cell_type": "code",
   "execution_count": 7,
   "id": "d5f16c08",
   "metadata": {},
   "outputs": [],
   "source": [
    "kNN_model  = KNeighborsRegressor(n_neighbors = 5).fit(X_train, y_train)\n"
   ]
  },
  {
   "cell_type": "markdown",
   "id": "07f43eba",
   "metadata": {},
   "source": [
    "6. Evaluate Performance"
   ]
  },
  {
   "cell_type": "code",
   "execution_count": 8,
   "id": "950dcef2",
   "metadata": {},
   "outputs": [
    {
     "name": "stdout",
     "output_type": "stream",
     "text": [
      "R2  : 0.6629016480532035\n",
      "MAE : 0.02340851851851852\n",
      "MSE : 0.0014550283629629632\n",
      "RMSE: 0.038144834027204304\n",
      "Processing time: 0.004 seconds\n"
     ]
    }
   ],
   "source": [
    "import time\n",
    "start_time = time.time()\n",
    "\n",
    "y_pred     = kNN_model.predict(X_test)\n",
    "    \n",
    "print('R2  :', r2_score(y_test, y_pred))\n",
    "print('MAE :', mean_absolute_error(y_test, y_pred))\n",
    "print('MSE :', mean_squared_error(y_test, y_pred))\n",
    "print('RMSE:', np.sqrt(mean_squared_error(y_test, y_pred)))\n",
    "print('Processing time: %s seconds' % round((time.time() - start_time), 4))"
   ]
  },
  {
   "cell_type": "code",
   "execution_count": null,
   "id": "3fca1374",
   "metadata": {},
   "outputs": [],
   "source": []
  }
 ],
 "metadata": {
  "kernelspec": {
   "display_name": "Python 3 (ipykernel)",
   "language": "python",
   "name": "python3"
  },
  "language_info": {
   "codemirror_mode": {
    "name": "ipython",
    "version": 3
   },
   "file_extension": ".py",
   "mimetype": "text/x-python",
   "name": "python",
   "nbconvert_exporter": "python",
   "pygments_lexer": "ipython3",
   "version": "3.10.4"
  }
 },
 "nbformat": 4,
 "nbformat_minor": 5
}
