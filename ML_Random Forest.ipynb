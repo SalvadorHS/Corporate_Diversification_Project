{
 "cells": [
  {
   "cell_type": "markdown",
   "id": "12c25c04",
   "metadata": {},
   "source": [
    "# Random Forest"
   ]
  },
  {
   "cell_type": "code",
   "execution_count": 1,
   "id": "0eda5e8d",
   "metadata": {},
   "outputs": [],
   "source": [
    "import warnings\n",
    "import pandas as pd\n",
    "import numpy as np\n",
    "from sklearn.ensemble import RandomForestRegressor\n",
    "from sklearn.metrics import mean_squared_error, mean_absolute_error, r2_score\n",
    "from sklearn.model_selection import KFold, train_test_split, RandomizedSearchCV\n",
    "\n",
    "import seaborn as sns\n",
    "import matplotlib.pyplot as myplot\n",
    "%matplotlib inline\n",
    "warnings.filterwarnings('ignore')\n",
    "df = pd.read_csv(\"Financial_Mexican_Firms.csv\")"
   ]
  },
  {
   "cell_type": "markdown",
   "id": "bcf743b7",
   "metadata": {},
   "source": [
    "1. Train & Test Split"
   ]
  },
  {
   "cell_type": "code",
   "execution_count": 2,
   "id": "8ea8cc15",
   "metadata": {},
   "outputs": [],
   "source": [
    "X  = df.iloc[:, 0:10]\n",
    "y  = df.iloc[:, 10]\n",
    "X_train, X_test, y_train, y_test = train_test_split(X, y, test_size=0.25, random_state = 0) \n",
    "df_train = pd.concat([X_train, y_train], axis = 1)\n",
    "df_test  = pd.concat([X_test, y_test], axis = 1)"
   ]
  },
  {
   "cell_type": "markdown",
   "id": "072aeb01",
   "metadata": {},
   "source": [
    "2. Handling missing values"
   ]
  },
  {
   "cell_type": "code",
   "execution_count": 3,
   "id": "a60b8311",
   "metadata": {},
   "outputs": [],
   "source": [
    "from sklearn.impute import KNNImputer\n",
    "\n",
    "knn       = KNNImputer(n_neighbors = 3)\n",
    "\n",
    "df_train  = pd.DataFrame(knn.fit_transform(df_train), columns = ['ProposedIndex', \n",
    "                                                                 'IIHH',  \n",
    "                                                                 'Shannon',\n",
    "                                                                 'Size',\n",
    "                                                                 'AssetTurnover',\n",
    "                                                                 'Debt',\n",
    "                                                                 'QuickRatio',\n",
    "                                                                 'CashHoldings',\n",
    "                                                                 'ROE',\n",
    "                                                                 'ROI',\n",
    "                                                                 'ROA'])\n",
    "df_test  = pd.DataFrame(knn.fit_transform(df_test), columns = ['ProposedIndex', \n",
    "                                                                 'IIHH',  \n",
    "                                                                 'Shannon',\n",
    "                                                                 'Size',\n",
    "                                                                 'AssetTurnover',\n",
    "                                                                 'Debt',\n",
    "                                                                 'QuickRatio',\n",
    "                                                                 'CashHoldings',\n",
    "                                                                 'ROE',\n",
    "                                                                 'ROI', \n",
    "                                                                 'ROA'])\n",
    "\n",
    "# Update the training set\n",
    "X_train  = df_train.iloc[:,:-1]\n",
    "y_train  = df_train.ROA\n",
    "\n",
    "X_test  = df_test.iloc[:,:-1]\n",
    "y_test  = df_test.ROA"
   ]
  },
  {
   "cell_type": "markdown",
   "id": "89ca3867",
   "metadata": {},
   "source": [
    "5. Hyperparameter Tunning"
   ]
  },
  {
   "cell_type": "code",
   "execution_count": 4,
   "id": "18c8d18d",
   "metadata": {},
   "outputs": [],
   "source": [
    "# Specify different values for the tunning process\n",
    "kfold             = KFold(n_splits = 5, random_state = None, shuffle = False)\n",
    "\n",
    "n_estimators      = [int(x) for x in np.linspace(start = 50, stop = 200, num = 12)] \n",
    "max_features      = ['auto', 'sqrt'] \n",
    "max_depth         = [int(x) for x in np.linspace(5, 30, 6)] \n",
    "min_samples_split = [int(x) for x in np.linspace(2, 20, 6)] \n",
    "min_samples_leaf  = [int(x) for x in np.linspace(1, 20, 6)] \n",
    "\n",
    "#Create parameter grid\n",
    "random_grid ={'n_estimators'     :n_estimators,\n",
    "              'max_features'     :max_features,\n",
    "              'max_depth'        :max_depth,\n",
    "              'min_samples_split':min_samples_split,\n",
    "              'min_samples_leaf' :min_samples_leaf}\n",
    "\n",
    "#Create Random Forest object\n",
    "rf = RandomForestRegressor()\n",
    "\n",
    "#Randomized Search CV\n",
    "rf_search = RandomizedSearchCV(rf, \n",
    "                               random_grid, \n",
    "                               scoring      = 'neg_mean_squared_error', \n",
    "                               n_iter       = 10, \n",
    "                               cv           = 10, \n",
    "                               n_jobs       = -1)"
   ]
  },
  {
   "cell_type": "markdown",
   "id": "219dbfb4",
   "metadata": {},
   "source": [
    "6. Fit the model and measure time to execute"
   ]
  },
  {
   "cell_type": "code",
   "execution_count": 5,
   "id": "12c5d6d2",
   "metadata": {},
   "outputs": [
    {
     "name": "stdout",
     "output_type": "stream",
     "text": [
      "\n",
      " Time taken: 0 hours 0 minutes and 6.13 seconds.\n"
     ]
    }
   ],
   "source": [
    "from datetime import datetime\n",
    "\n",
    "def timer(start_time=None):\n",
    "    if not start_time:\n",
    "        start_time = datetime.now()\n",
    "        return start_time\n",
    "    elif start_time:\n",
    "        thour, temp_sec = divmod((datetime.now() - start_time).total_seconds(), 3600)\n",
    "        tmin, tsec = divmod(temp_sec, 60)\n",
    "        print('\\n Time taken: %i hours %i minutes and %s seconds.' % (thour, tmin, round(tsec, 2)))\n",
    "        \n",
    "start_time = timer(None) # timing starts from this point for \"start_time\" variable\n",
    "rf_search.fit(X_train,y_train)\n",
    "timer(start_time) # timing ends here for \"start_time\" variable"
   ]
  },
  {
   "cell_type": "markdown",
   "id": "42a5c092",
   "metadata": {},
   "source": [
    "7. Get best tunning paratemers "
   ]
  },
  {
   "cell_type": "code",
   "execution_count": 6,
   "id": "3a333fa3",
   "metadata": {},
   "outputs": [
    {
     "data": {
      "text/plain": [
       "{'n_estimators': 63,\n",
       " 'min_samples_split': 16,\n",
       " 'min_samples_leaf': 1,\n",
       " 'max_features': 'auto',\n",
       " 'max_depth': 30}"
      ]
     },
     "execution_count": 6,
     "metadata": {},
     "output_type": "execute_result"
    }
   ],
   "source": [
    "rf_search.best_params_"
   ]
  },
  {
   "cell_type": "markdown",
   "id": "bd1d1a8f",
   "metadata": {},
   "source": [
    "8. Specify the optimal model"
   ]
  },
  {
   "cell_type": "code",
   "execution_count": 10,
   "id": "524977bd",
   "metadata": {},
   "outputs": [],
   "source": [
    "optimal_model = RandomForestRegressor(n_estimators      = 63,\n",
    "                                      min_samples_split = 16,\n",
    "                                      min_samples_leaf  = 1,\n",
    "                                      max_features      = 'auto',\n",
    "                                      max_depth         = 30).fit(X_train, y_train)\n"
   ]
  },
  {
   "cell_type": "markdown",
   "id": "6beacef2",
   "metadata": {},
   "source": [
    "9. Evaluate performance"
   ]
  },
  {
   "cell_type": "code",
   "execution_count": 11,
   "id": "d554a5f2",
   "metadata": {},
   "outputs": [
    {
     "name": "stdout",
     "output_type": "stream",
     "text": [
      "R2  : 0.7831185810660819\n",
      "MAE : 0.015633896146119295\n",
      "MSE : 0.0009361321825694034\n",
      "RMSE: 0.03059627726651403\n",
      "Processing time: 0.0111 seconds\n"
     ]
    }
   ],
   "source": [
    "import time\n",
    "start_time = time.time()\n",
    "\n",
    "y_pred     = optimal_model.predict(X_test)\n",
    "    \n",
    "print('R2  :', r2_score(y_test, y_pred))\n",
    "print('MAE :', mean_absolute_error(y_test, y_pred))\n",
    "print('MSE :', mean_squared_error(y_test, y_pred))\n",
    "print('RMSE:', np.sqrt(mean_squared_error(y_test, y_pred)))\n",
    "print('Processing time: %s seconds' % round((time.time() - start_time), 4))"
   ]
  },
  {
   "cell_type": "markdown",
   "id": "bb9988a5",
   "metadata": {},
   "source": [
    "10. Deployment"
   ]
  },
  {
   "cell_type": "code",
   "execution_count": 13,
   "id": "661623dc",
   "metadata": {},
   "outputs": [],
   "source": [
    "import pickle\n",
    "file = open(\"random_forest_diversification.pkl\", 'wb')\n",
    "pickle.dump(optimal_model, file)"
   ]
  },
  {
   "cell_type": "code",
   "execution_count": null,
   "id": "145b1e9e",
   "metadata": {},
   "outputs": [],
   "source": []
  }
 ],
 "metadata": {
  "kernelspec": {
   "display_name": "Python 3 (ipykernel)",
   "language": "python",
   "name": "python3"
  },
  "language_info": {
   "codemirror_mode": {
    "name": "ipython",
    "version": 3
   },
   "file_extension": ".py",
   "mimetype": "text/x-python",
   "name": "python",
   "nbconvert_exporter": "python",
   "pygments_lexer": "ipython3",
   "version": "3.10.4"
  }
 },
 "nbformat": 4,
 "nbformat_minor": 5
}
